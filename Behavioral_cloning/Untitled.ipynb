{
 "cells": [
  {
   "cell_type": "code",
   "execution_count": 15,
   "metadata": {},
   "outputs": [],
   "source": [
    "#importing libraries\n",
    "import csv\n",
    "import cv2\n",
    "import numpy as np\n",
    "import matplotlib.pyplot as plt\n",
    "\n",
    "from keras.models import Sequential\n",
    "from keras.layers import Flatten,Dense,Cropping2D,Activation,Lambda\n",
    "\n",
    "from keras.layers.convolutional import Convolution2D\n",
    "\n"
   ]
  },
  {
   "cell_type": "code",
   "execution_count": 16,
   "metadata": {},
   "outputs": [],
   "source": [
    "\n",
    "\n",
    "# loading csv data\n",
    "lines=[]\n",
    "csv_path=\"dataset/lap1/driving_log.csv\"\n",
    "with open(csv_path) as csv_file:\n",
    "    reader=csv.reader(csv_file)\n",
    "    for line in reader:\n",
    "        lines.append(line)\n",
    "    "
   ]
  },
  {
   "cell_type": "code",
   "execution_count": 17,
   "metadata": {},
   "outputs": [],
   "source": [
    "\n",
    "%matplotlib inline\n",
    "images=[]\n",
    "measurement=[]\n",
    "#loading images and measurement data\n",
    "for line in lines:\n",
    "    # for center images\n",
    "    source_path=line[0]\n",
    "    image_name=source_path.split('\\\\')[-1]\n",
    "    image_name=image_name.split('/')[-1]\n",
    "    current_path=\"dataset/lap1/IMG/\"+image_name\n",
    "    #print(current_path)\n",
    "    image=plt.imread(current_path)\n",
    "    images.append(image)\n",
    "    measurement.append(float(line[3]))\n",
    "    \n",
    "    #for left images\n",
    "    source_path=line[1]\n",
    "    image_name=source_path.split('\\\\')[-1]\n",
    "    image_name=image_name.split('/')[-1]\n",
    "    current_path=\"dataset/lap1/IMG/\"+image_name\n",
    "    #print(current_path)\n",
    "    image=plt.imread(current_path)\n",
    "    images.append(image)\n",
    "    measurement.append(float(line[3]-cor))\n",
    "    \n",
    "    #for right images\n",
    "    source_path=line[2]\n",
    "    image_name=source_path.split('\\\\')[-1]\n",
    "    image_name=image_name.split('/')[-1]\n",
    "    current_path=\"dataset/lap1/IMG/\"+image_name\n",
    "    #print(current_path)\n",
    "    image=plt.imread(current_path)\n",
    "    images.append(image)\n",
    "    measurement.append(float(line[3]))"
   ]
  },
  {
   "cell_type": "code",
   "execution_count": 18,
   "metadata": {},
   "outputs": [],
   "source": [
    "#data augmentation\n",
    "aug_img=[]\n",
    "aug_measurement=[]\n",
    "def augment(images,measurement):\n",
    "    \n",
    "    for img,measure in zip(images,measurement):\n",
    "        aug_img.append(img)\n",
    "        aug_measurement.append(measure)\n",
    "        aug_img.append(np.fliplr(image))\n",
    "        aug_measurement.append(measure*-1.0)\n",
    "augment(images,measurement)       "
   ]
  },
  {
   "cell_type": "code",
   "execution_count": 19,
   "metadata": {},
   "outputs": [],
   "source": [
    "#preprocessing data\n",
    "cv2.imshow(\"asa\",aug_img[0])\n",
    "def preprocess_images(images):\n",
    "    cropping2D(cropping=())\n",
    "    "
   ]
  },
  {
   "cell_type": "code",
   "execution_count": null,
   "metadata": {},
   "outputs": [],
   "source": [
    "X_train=np.array(aug_img)\n",
    "y_train=np.array(aug_measurement)\n",
    "\n",
    "\n",
    "\n",
    "\n",
    "model=Sequential()\n",
    "\n",
    "model.add(Lambda(lambda x: (x / 255.0) - 0.5, input_shape=(160,320,3)))\n",
    "model.add(Cropping2D(cropping=((70,10),(0,0))))\n",
    "\n",
    "#Nvidia model\n",
    "model.add(Convolution2D(24,5,5,activation=('relu'),subsample=(2,2)))\n",
    "model.add(Convolution2D(36,5,5,activation=('relu'),subsample=(2,2)))\n",
    "model.add(Convolution2D(48,5,5,activation=('relu'),subsample=(2,2)))\n",
    "model.add(Convolution2D(64,3,3,activation=('relu')))\n",
    "model.add(Convolution2D(64,3,3,activation=('relu')))\n",
    "\n",
    "model.add(Flatten())\n",
    "model.add(Dense(100))\n",
    "model.add(Dense(50))\n",
    "model.add(Dense(1))\n",
    "\n",
    "model.compile(loss='mse',optimizer='adam')\n",
    "model.fit(X_train,y_train,validation_split=0.2,shuffle=True,nb_epoch=7,verbose=1)\n",
    "\n",
    "model.save(\"model.h5\")\n",
    "\n"
   ]
  },
  {
   "cell_type": "code",
   "execution_count": null,
   "metadata": {},
   "outputs": [],
   "source": []
  }
 ],
 "metadata": {
  "kernelspec": {
   "display_name": "Python 3",
   "language": "python",
   "name": "python3"
  },
  "language_info": {
   "codemirror_mode": {
    "name": "ipython",
    "version": 3
   },
   "file_extension": ".py",
   "mimetype": "text/x-python",
   "name": "python",
   "nbconvert_exporter": "python",
   "pygments_lexer": "ipython3",
   "version": "3.5.2"
  },
  "widgets": {
   "state": {},
   "version": "1.1.2"
  }
 },
 "nbformat": 4,
 "nbformat_minor": 2
}
